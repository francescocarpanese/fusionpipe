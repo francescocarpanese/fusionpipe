{
 "cells": [
  {
   "cell_type": "code",
   "execution_count": null,
   "id": "2e6c2863",
   "metadata": {},
   "outputs": [],
   "source": [
    "# Import utils to get access to the node parents relation\n",
    "import os \n",
    "import sys\n",
    "from fp_user_utils.user_api import get_current_node_id, get_info_parents, get_current_node_folder_path, get_current_node_folder_path_data"
   ]
  },
  {
   "cell_type": "code",
   "execution_count": null,
   "id": "7f94fde7",
   "metadata": {},
   "outputs": [],
   "source": [
    "# Set the node_id from the folder path\n",
    "node_id = get_current_node_id()"
   ]
  },
  {
   "cell_type": "code",
   "execution_count": null,
   "id": "4d242766",
   "metadata": {},
   "outputs": [],
   "source": [
    "# Print info parent folders\n",
    "info_parents = get_info_parents(node_id=node_id)\n",
    "print(f\"Parent folders for node {node_id}:\\n\")\n",
    "for parent in info_parents:\n",
    "    print(parent)\n",
    "    print('\\n')"
   ]
  }
 ],
 "metadata": {
  "language_info": {
   "name": "python"
  }
 },
 "nbformat": 4,
 "nbformat_minor": 5
}
