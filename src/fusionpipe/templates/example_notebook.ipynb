{
 "cells": [
  {
   "cell_type": "code",
   "execution_count": null,
   "id": "2e6c2863",
   "metadata": {},
   "outputs": [],
   "source": [
    "from fp_user_utils.user_api import (\n",
    "    get_current_node_id,\n",
    "    get_info_parents,\n",
    "    get_current_node_folder_path,\n",
    "    get_current_node_folder_path_data,\n",
    "    get_parent_info_from_edge_id,\n",
    "    get_parent_folder_path_from_edge_id\n",
    ")"
   ]
  },
  {
   "cell_type": "code",
   "execution_count": null,
   "id": "7f94fde7",
   "metadata": {},
   "outputs": [],
   "source": [
    "# Set the node_id from the folder path\n",
    "node_id = get_current_node_id()\n",
    "print(node_id)"
   ]
  },
  {
   "cell_type": "code",
   "execution_count": null,
   "id": "b66c84b0",
   "metadata": {},
   "outputs": [],
   "source": [
    "# Get info of all node parents. Read the documentation get_info_parents.\n",
    "info_parents = get_info_parents(node_id=node_id)\n",
    "print(f\"Retrieved information of the node parents: {info_parents}\")"
   ]
  },
  {
   "cell_type": "code",
   "execution_count": null,
   "id": "313587f9",
   "metadata": {},
   "outputs": [],
   "source": [
    "# In order to retrive information from a given parent of the current node it is recommend to refer to the parent based on the edge_id\n",
    "# Get information of a parent node from edge_id. The resulting dictionary will contain:\n",
    "# {\n",
    "#     'node_id': <parent_node_id>,\n",
    "#     'node_tag': <parent_node_tag>,\n",
    "#     'folder_path': <parent_folder_path>,\n",
    "#     'edge_id': <edge_id>\n",
    "# }\n",
    "edge_id = '01' # Put here the edge_id of interest\n",
    "parent_info = get_parent_info_from_edge_id(edge_id)\n",
    "print(f\"Retrieved information of the parent node (edge_id: {edge_id}): {parent_info}\")\n"
   ]
  },
  {
   "cell_type": "code",
   "execution_count": null,
   "id": "691a3c44",
   "metadata": {},
   "outputs": [],
   "source": [
    "# You can get directly the folder path of the parent node from the edge_id\n",
    "edge_id = '01'\n",
    "parent_folder = get_parent_folder_path_from_edge_id(edge_id)\n",
    "print(f\"Retrieved folder path of the parent node (edge_id: {edge_id}): {parent_folder}\")"
   ]
  }
 ],
 "metadata": {
  "language_info": {
   "name": "python"
  }
 },
 "nbformat": 4,
 "nbformat_minor": 5
}
