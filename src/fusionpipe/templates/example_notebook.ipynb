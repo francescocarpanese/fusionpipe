{
 "cells": [
  {
   "cell_type": "code",
   "execution_count": null,
   "id": "2e6c2863",
   "metadata": {},
   "outputs": [],
   "source": [
    "# Import utils to get access to the node parents relation\n",
    "from user_utils.python.node_api import get_all_parent_node_folder_paths\n",
    "import os "
   ]
  },
  {
   "cell_type": "code",
   "execution_count": null,
   "id": "7f94fde7",
   "metadata": {},
   "outputs": [],
   "source": [
    "# Set the node_id from the folder path\n",
    "node_id = None"
   ]
  },
  {
   "cell_type": "code",
   "execution_count": null,
   "id": "4d242766",
   "metadata": {},
   "outputs": [],
   "source": [
    "if node_id is None:\n",
    "    print(\"No node_id specified. Please set the node_id variable to the ID of the node you want to inspect.\")\n",
    "else:\n",
    "    # Get the parent folder where you can read the outputs of the parent nodes\n",
    "    parent_folders = get_all_parent_node_folder_paths(node_id=node_id)\n",
    "    print(f\"Parent folders for node {node_id}:\\n\")\n",
    "    for folder in parent_folders:\n",
    "        print(folder)\n",
    "        print('\\n')"
   ]
  }
 ],
 "metadata": {
  "language_info": {
   "name": "python"
  }
 },
 "nbformat": 4,
 "nbformat_minor": 5
}
